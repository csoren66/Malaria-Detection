{
 "cells": [
  {
   "cell_type": "markdown",
   "id": "361bc9b1",
   "metadata": {},
   "source": [
    "## Creating CNN Using Scratch And Transfer Learning"
   ]
  },
  {
   "cell_type": "markdown",
   "id": "3cc71599",
   "metadata": {},
   "source": [
    "Please download the dataset from the below url:\n",
    "\n",
    "https://www.kaggle.com/datasets/iarunava/cell-images-for-detecting-malaria/download?datasetVersionNumber=1"
   ]
  },
  {
   "cell_type": "code",
   "execution_count": 1,
   "id": "6a78343f",
   "metadata": {},
   "outputs": [],
   "source": [
    "# Import the libraries as shown below\n",
    "\n",
    "from tensorflow.keras.layers import Input, Lambda, Dense, Flatten, Conv2D\n",
    "from tensorflow.keras.models import Model\n",
    "from tensorflow.keras.applications.vgg19 import VGG19\n",
    "from tensorflow.keras.preprocessing import image\n",
    "from tensorflow.keras.preprocessing.image import ImageDataGenerator, load_img\n",
    "from keras.applications.imagenet_utils import preprocess_input\n",
    "from tensorflow.keras.models import Sequential\n",
    "import numpy as np\n",
    "from glob import glob\n",
    "import matplotlib.pyplot as plt"
   ]
  },
  {
   "cell_type": "code",
   "execution_count": 2,
   "id": "0ea803cd",
   "metadata": {},
   "outputs": [
    {
     "name": "stdout",
     "output_type": "stream",
     "text": [
      "2.11.0\n"
     ]
    }
   ],
   "source": [
    "import tensorflow as tf\n",
    "print(tf.__version__)"
   ]
  },
  {
   "cell_type": "code",
   "execution_count": 3,
   "id": "cd0a5c6e",
   "metadata": {},
   "outputs": [],
   "source": [
    "# re-size all the images to this\n",
    "IMAGE_SIZE = [244, 244]\n",
    "\n",
    "train_path = 'cell_images/Train'\n",
    "valid_path = 'cell_images/Test'"
   ]
  },
  {
   "cell_type": "code",
   "execution_count": 4,
   "id": "689ee9ab",
   "metadata": {},
   "outputs": [],
   "source": [
    "# Import the vgg 19 library as show below and add preprocessing layer to the front of VGG\n",
    "# Here we will be using imagenet weight\n",
    "\n",
    "vgg19 = VGG19(input_shape=IMAGE_SIZE + [3], weights='imagenet', include_top=False)"
   ]
  },
  {
   "cell_type": "code",
   "execution_count": 5,
   "id": "8280bdef",
   "metadata": {},
   "outputs": [],
   "source": [
    "# don't train existing weights\n",
    "for layer in vgg19.layers:\n",
    "    layer.trainable = False"
   ]
  },
  {
   "cell_type": "code",
   "execution_count": 6,
   "id": "1c9dc3d7",
   "metadata": {},
   "outputs": [],
   "source": [
    "# useful for getting number of output classes\n",
    "folders = glob('Dataset/Train/*')"
   ]
  },
  {
   "cell_type": "code",
   "execution_count": 7,
   "id": "855574bf",
   "metadata": {},
   "outputs": [
    {
     "data": {
      "text/plain": [
       "['Dataset/Train\\\\Parasite', 'Dataset/Train\\\\Uninfected']"
      ]
     },
     "execution_count": 7,
     "metadata": {},
     "output_type": "execute_result"
    }
   ],
   "source": [
    "folders"
   ]
  },
  {
   "cell_type": "code",
   "execution_count": 8,
   "id": "621340e9",
   "metadata": {},
   "outputs": [],
   "source": [
    "# our layers - you can add more if you want\\\n",
    "x = Flatten()(vgg19.output)"
   ]
  },
  {
   "cell_type": "code",
   "execution_count": 9,
   "id": "5dc6e641",
   "metadata": {},
   "outputs": [],
   "source": [
    "prediction = Dense(len(folders), activation='softmax')(x)\n",
    "\n",
    "# create a model object\n",
    "model = Model(inputs=vgg19.input, outputs=prediction)"
   ]
  },
  {
   "cell_type": "code",
   "execution_count": 10,
   "id": "d5921982",
   "metadata": {},
   "outputs": [
    {
     "name": "stdout",
     "output_type": "stream",
     "text": [
      "Model: \"model\"\n",
      "_________________________________________________________________\n",
      " Layer (type)                Output Shape              Param #   \n",
      "=================================================================\n",
      " input_1 (InputLayer)        [(None, 244, 244, 3)]     0         \n",
      "                                                                 \n",
      " block1_conv1 (Conv2D)       (None, 244, 244, 64)      1792      \n",
      "                                                                 \n",
      " block1_conv2 (Conv2D)       (None, 244, 244, 64)      36928     \n",
      "                                                                 \n",
      " block1_pool (MaxPooling2D)  (None, 122, 122, 64)      0         \n",
      "                                                                 \n",
      " block2_conv1 (Conv2D)       (None, 122, 122, 128)     73856     \n",
      "                                                                 \n",
      " block2_conv2 (Conv2D)       (None, 122, 122, 128)     147584    \n",
      "                                                                 \n",
      " block2_pool (MaxPooling2D)  (None, 61, 61, 128)       0         \n",
      "                                                                 \n",
      " block3_conv1 (Conv2D)       (None, 61, 61, 256)       295168    \n",
      "                                                                 \n",
      " block3_conv2 (Conv2D)       (None, 61, 61, 256)       590080    \n",
      "                                                                 \n",
      " block3_conv3 (Conv2D)       (None, 61, 61, 256)       590080    \n",
      "                                                                 \n",
      " block3_conv4 (Conv2D)       (None, 61, 61, 256)       590080    \n",
      "                                                                 \n",
      " block3_pool (MaxPooling2D)  (None, 30, 30, 256)       0         \n",
      "                                                                 \n",
      " block4_conv1 (Conv2D)       (None, 30, 30, 512)       1180160   \n",
      "                                                                 \n",
      " block4_conv2 (Conv2D)       (None, 30, 30, 512)       2359808   \n",
      "                                                                 \n",
      " block4_conv3 (Conv2D)       (None, 30, 30, 512)       2359808   \n",
      "                                                                 \n",
      " block4_conv4 (Conv2D)       (None, 30, 30, 512)       2359808   \n",
      "                                                                 \n",
      " block4_pool (MaxPooling2D)  (None, 15, 15, 512)       0         \n",
      "                                                                 \n",
      " block5_conv1 (Conv2D)       (None, 15, 15, 512)       2359808   \n",
      "                                                                 \n",
      " block5_conv2 (Conv2D)       (None, 15, 15, 512)       2359808   \n",
      "                                                                 \n",
      " block5_conv3 (Conv2D)       (None, 15, 15, 512)       2359808   \n",
      "                                                                 \n",
      " block5_conv4 (Conv2D)       (None, 15, 15, 512)       2359808   \n",
      "                                                                 \n",
      " block5_pool (MaxPooling2D)  (None, 7, 7, 512)         0         \n",
      "                                                                 \n",
      " flatten (Flatten)           (None, 25088)             0         \n",
      "                                                                 \n",
      " dense (Dense)               (None, 2)                 50178     \n",
      "                                                                 \n",
      "=================================================================\n",
      "Total params: 20,074,562\n",
      "Trainable params: 50,178\n",
      "Non-trainable params: 20,024,384\n",
      "_________________________________________________________________\n"
     ]
    }
   ],
   "source": [
    "# view the structure of the model\n",
    "model.summary()"
   ]
  },
  {
   "cell_type": "code",
   "execution_count": 11,
   "id": "b8b1f7e7",
   "metadata": {},
   "outputs": [],
   "source": [
    "from tensorflow.keras.layers import MaxPooling2D"
   ]
  },
  {
   "cell_type": "code",
   "execution_count": 12,
   "id": "a456ed27",
   "metadata": {},
   "outputs": [
    {
     "name": "stdout",
     "output_type": "stream",
     "text": [
      "Model: \"sequential\"\n",
      "_________________________________________________________________\n",
      " Layer (type)                Output Shape              Param #   \n",
      "=================================================================\n",
      " conv2d (Conv2D)             (None, 224, 224, 16)      208       \n",
      "                                                                 \n",
      " max_pooling2d (MaxPooling2D  (None, 112, 112, 16)     0         \n",
      " )                                                               \n",
      "                                                                 \n",
      " conv2d_1 (Conv2D)           (None, 112, 112, 32)      2080      \n",
      "                                                                 \n",
      " max_pooling2d_1 (MaxPooling  (None, 56, 56, 32)       0         \n",
      " 2D)                                                             \n",
      "                                                                 \n",
      " conv2d_2 (Conv2D)           (None, 56, 56, 64)        8256      \n",
      "                                                                 \n",
      " max_pooling2d_2 (MaxPooling  (None, 28, 28, 64)       0         \n",
      " 2D)                                                             \n",
      "                                                                 \n",
      " flatten_1 (Flatten)         (None, 50176)             0         \n",
      "                                                                 \n",
      " dense_1 (Dense)             (None, 500)               25088500  \n",
      "                                                                 \n",
      " dense_2 (Dense)             (None, 2)                 1002      \n",
      "                                                                 \n",
      "=================================================================\n",
      "Total params: 25,100,046\n",
      "Trainable params: 25,100,046\n",
      "Non-trainable params: 0\n",
      "_________________________________________________________________\n"
     ]
    }
   ],
   "source": [
    "### Create Model from scretch usinf CNN\n",
    "model = Sequential()\n",
    "model.add(Conv2D(filters=16, kernel_size=2, padding=\"same\", activation=\"relu\", input_shape=(224, 224, 3)))\n",
    "model.add(MaxPooling2D(pool_size=2))\n",
    "model.add(Conv2D(filters=32, kernel_size=2, padding=\"same\", activation=\"relu\"))\n",
    "model.add(MaxPooling2D(pool_size=2))\n",
    "model.add(Conv2D(filters=64, kernel_size=2, padding=\"same\", activation=\"relu\"))\n",
    "model.add(MaxPooling2D(pool_size=2))\n",
    "model.add(Flatten())\n",
    "model.add(Dense(500, activation=\"relu\"))\n",
    "model.add(Dense(2, activation=\"softmax\"))\n",
    "model.summary()\n"
   ]
  },
  {
   "cell_type": "code",
   "execution_count": 13,
   "id": "60485db8",
   "metadata": {},
   "outputs": [],
   "source": [
    "# tell the model what cost and optimization method to use\n",
    "model.compile(\n",
    "loss='categorical_crossentropy',\n",
    "optimizer='adam',\n",
    "metrics=['accuracy']\n",
    ")"
   ]
  },
  {
   "cell_type": "code",
   "execution_count": 14,
   "id": "4c976183",
   "metadata": {},
   "outputs": [],
   "source": [
    "# Use the Image Data Generator to import the images from the dataset\n",
    "from tensorflow.keras.preprocessing.image import ImageDataGenerator\n",
    "\n",
    "train_datagen = ImageDataGenerator(rescale = 1./255,\n",
    "                                   shear_range = 0.2,\n",
    "                                   zoom_range = 0.2,\n",
    "                                   horizontal_flip = True)\n",
    "\n",
    "test_datagen = ImageDataGenerator(rescale = 1./255)"
   ]
  },
  {
   "cell_type": "code",
   "execution_count": 15,
   "id": "b252d1e2",
   "metadata": {},
   "outputs": [
    {
     "name": "stdout",
     "output_type": "stream",
     "text": [
      "Found 416 images belonging to 2 classes.\n"
     ]
    }
   ],
   "source": [
    "# Make sure you provide the same target size as initialied for the image size\n",
    "training_set = train_datagen.flow_from_directory('Dataset/Train',\n",
    "                                                 target_size = (224, 224),\n",
    "                                                 batch_size = 32,\n",
    "                                                 class_mode = 'categorical')"
   ]
  },
  {
   "cell_type": "code",
   "execution_count": 16,
   "id": "0bdb5793",
   "metadata": {},
   "outputs": [
    {
     "data": {
      "text/plain": [
       "<keras.preprocessing.image.DirectoryIterator at 0x19a8f228a30>"
      ]
     },
     "execution_count": 16,
     "metadata": {},
     "output_type": "execute_result"
    }
   ],
   "source": [
    "training_set"
   ]
  },
  {
   "cell_type": "code",
   "execution_count": 17,
   "id": "381e7a64",
   "metadata": {},
   "outputs": [
    {
     "name": "stdout",
     "output_type": "stream",
     "text": [
      "Found 134 images belonging to 2 classes.\n"
     ]
    }
   ],
   "source": [
    "test_set = test_datagen.flow_from_directory('Dataset/Test',\n",
    "                                            target_size = (224, 224),\n",
    "                                            batch_size = 32,\n",
    "                                            class_mode = 'categorical')"
   ]
  },
  {
   "cell_type": "code",
   "execution_count": 18,
   "id": "00f2130e",
   "metadata": {},
   "outputs": [
    {
     "name": "stderr",
     "output_type": "stream",
     "text": [
      "C:\\Users\\satya\\AppData\\Local\\Temp\\ipykernel_8600\\4102162479.py:3: UserWarning: `Model.fit_generator` is deprecated and will be removed in a future version. Please use `Model.fit`, which supports generators.\n",
      "  r = model.fit_generator(\n"
     ]
    },
    {
     "name": "stdout",
     "output_type": "stream",
     "text": [
      "Epoch 1/50\n",
      "13/13 [==============================] - 26s 2s/step - loss: 2.1062 - accuracy: 0.4952 - val_loss: 0.6818 - val_accuracy: 0.6567\n",
      "Epoch 2/50\n",
      "13/13 [==============================] - 23s 2s/step - loss: 0.6861 - accuracy: 0.5913 - val_loss: 0.6659 - val_accuracy: 0.6343\n",
      "Epoch 3/50\n",
      "13/13 [==============================] - 24s 2s/step - loss: 0.6342 - accuracy: 0.6154 - val_loss: 0.8189 - val_accuracy: 0.3806\n",
      "Epoch 4/50\n",
      "13/13 [==============================] - 24s 2s/step - loss: 0.5958 - accuracy: 0.6442 - val_loss: 0.7398 - val_accuracy: 0.4478\n",
      "Epoch 5/50\n",
      "13/13 [==============================] - 25s 2s/step - loss: 0.5144 - accuracy: 0.7284 - val_loss: 0.9352 - val_accuracy: 0.4104\n",
      "Epoch 6/50\n",
      "13/13 [==============================] - 25s 2s/step - loss: 0.4917 - accuracy: 0.7620 - val_loss: 0.7200 - val_accuracy: 0.5746\n",
      "Epoch 7/50\n",
      "13/13 [==============================] - 27s 2s/step - loss: 0.5661 - accuracy: 0.7043 - val_loss: 0.9218 - val_accuracy: 0.3582\n",
      "Epoch 8/50\n",
      "13/13 [==============================] - 22s 2s/step - loss: 0.4888 - accuracy: 0.7692 - val_loss: 0.9026 - val_accuracy: 0.4030\n",
      "Epoch 9/50\n",
      "13/13 [==============================] - 25s 2s/step - loss: 0.4468 - accuracy: 0.7812 - val_loss: 1.0759 - val_accuracy: 0.3657\n",
      "Epoch 10/50\n",
      "13/13 [==============================] - 23s 2s/step - loss: 0.4239 - accuracy: 0.7812 - val_loss: 0.8462 - val_accuracy: 0.5224\n",
      "Epoch 11/50\n",
      "13/13 [==============================] - 25s 2s/step - loss: 0.3943 - accuracy: 0.8221 - val_loss: 0.9283 - val_accuracy: 0.4552\n",
      "Epoch 12/50\n",
      "13/13 [==============================] - 22s 2s/step - loss: 0.3934 - accuracy: 0.8149 - val_loss: 0.5639 - val_accuracy: 0.6940\n",
      "Epoch 13/50\n",
      "13/13 [==============================] - 22s 2s/step - loss: 0.3378 - accuracy: 0.8678 - val_loss: 0.7520 - val_accuracy: 0.6194\n",
      "Epoch 14/50\n",
      "13/13 [==============================] - 24s 2s/step - loss: 0.3151 - accuracy: 0.8750 - val_loss: 0.7338 - val_accuracy: 0.5896\n",
      "Epoch 15/50\n",
      "13/13 [==============================] - 23s 2s/step - loss: 0.2867 - accuracy: 0.8750 - val_loss: 0.5241 - val_accuracy: 0.7090\n",
      "Epoch 16/50\n",
      "13/13 [==============================] - 25s 2s/step - loss: 0.2862 - accuracy: 0.9038 - val_loss: 0.4270 - val_accuracy: 0.8060\n",
      "Epoch 17/50\n",
      "13/13 [==============================] - 25s 2s/step - loss: 0.2485 - accuracy: 0.9159 - val_loss: 0.6671 - val_accuracy: 0.6418\n",
      "Epoch 18/50\n",
      "13/13 [==============================] - 27s 2s/step - loss: 0.2402 - accuracy: 0.9014 - val_loss: 0.4103 - val_accuracy: 0.7836\n",
      "Epoch 19/50\n",
      "13/13 [==============================] - 30s 2s/step - loss: 0.1686 - accuracy: 0.9447 - val_loss: 0.3259 - val_accuracy: 0.8507\n",
      "Epoch 20/50\n",
      "13/13 [==============================] - 22s 2s/step - loss: 0.1450 - accuracy: 0.9567 - val_loss: 0.3205 - val_accuracy: 0.8657\n",
      "Epoch 21/50\n",
      "13/13 [==============================] - 23s 2s/step - loss: 0.1295 - accuracy: 0.9519 - val_loss: 0.2507 - val_accuracy: 0.9179\n",
      "Epoch 22/50\n",
      "13/13 [==============================] - 22s 2s/step - loss: 0.1262 - accuracy: 0.9712 - val_loss: 0.2616 - val_accuracy: 0.8881\n",
      "Epoch 23/50\n",
      "13/13 [==============================] - 24s 2s/step - loss: 0.1125 - accuracy: 0.9688 - val_loss: 0.3014 - val_accuracy: 0.8582\n",
      "Epoch 24/50\n",
      "13/13 [==============================] - 24s 2s/step - loss: 0.1207 - accuracy: 0.9663 - val_loss: 0.3246 - val_accuracy: 0.8433\n",
      "Epoch 25/50\n",
      "13/13 [==============================] - 25s 2s/step - loss: 0.0849 - accuracy: 0.9832 - val_loss: 0.2998 - val_accuracy: 0.8507\n",
      "Epoch 26/50\n",
      "13/13 [==============================] - 24s 2s/step - loss: 0.0908 - accuracy: 0.9712 - val_loss: 0.2274 - val_accuracy: 0.9030\n",
      "Epoch 27/50\n",
      "13/13 [==============================] - 24s 2s/step - loss: 0.0653 - accuracy: 0.9832 - val_loss: 0.2744 - val_accuracy: 0.8881\n",
      "Epoch 28/50\n",
      "13/13 [==============================] - 26s 2s/step - loss: 0.0672 - accuracy: 0.9808 - val_loss: 0.2424 - val_accuracy: 0.8955\n",
      "Epoch 29/50\n",
      "13/13 [==============================] - 24s 2s/step - loss: 0.0863 - accuracy: 0.9736 - val_loss: 0.1703 - val_accuracy: 0.9403\n",
      "Epoch 30/50\n",
      "13/13 [==============================] - 23s 2s/step - loss: 0.1008 - accuracy: 0.9639 - val_loss: 0.3261 - val_accuracy: 0.8657\n",
      "Epoch 31/50\n",
      "13/13 [==============================] - 23s 2s/step - loss: 0.1106 - accuracy: 0.9712 - val_loss: 0.6081 - val_accuracy: 0.7761\n",
      "Epoch 32/50\n",
      "13/13 [==============================] - 23s 2s/step - loss: 0.1095 - accuracy: 0.9736 - val_loss: 0.2476 - val_accuracy: 0.9030\n",
      "Epoch 33/50\n",
      "13/13 [==============================] - 23s 2s/step - loss: 0.0752 - accuracy: 0.9712 - val_loss: 0.2982 - val_accuracy: 0.8881\n",
      "Epoch 34/50\n",
      "13/13 [==============================] - 22s 2s/step - loss: 0.0697 - accuracy: 0.9808 - val_loss: 0.2768 - val_accuracy: 0.8806\n",
      "Epoch 35/50\n",
      "13/13 [==============================] - 22s 2s/step - loss: 0.0502 - accuracy: 0.9880 - val_loss: 0.4312 - val_accuracy: 0.8433\n",
      "Epoch 36/50\n",
      "13/13 [==============================] - 22s 2s/step - loss: 0.2230 - accuracy: 0.9111 - val_loss: 0.8655 - val_accuracy: 0.6567\n",
      "Epoch 37/50\n",
      "13/13 [==============================] - 22s 2s/step - loss: 0.1494 - accuracy: 0.9303 - val_loss: 0.2849 - val_accuracy: 0.8881\n",
      "Epoch 38/50\n",
      "13/13 [==============================] - 22s 2s/step - loss: 0.0943 - accuracy: 0.9736 - val_loss: 0.2491 - val_accuracy: 0.8881\n",
      "Epoch 39/50\n",
      "13/13 [==============================] - 22s 2s/step - loss: 0.0493 - accuracy: 0.9832 - val_loss: 0.1832 - val_accuracy: 0.9254\n",
      "Epoch 40/50\n",
      "13/13 [==============================] - 22s 2s/step - loss: 0.0585 - accuracy: 0.9832 - val_loss: 0.3800 - val_accuracy: 0.8582\n",
      "Epoch 41/50\n",
      "13/13 [==============================] - 22s 2s/step - loss: 0.0898 - accuracy: 0.9688 - val_loss: 0.2263 - val_accuracy: 0.9104\n",
      "Epoch 42/50\n",
      "13/13 [==============================] - 22s 2s/step - loss: 0.0598 - accuracy: 0.9856 - val_loss: 0.3883 - val_accuracy: 0.8731\n",
      "Epoch 43/50\n",
      "13/13 [==============================] - 23s 2s/step - loss: 0.0526 - accuracy: 0.9832 - val_loss: 0.1898 - val_accuracy: 0.9179\n",
      "Epoch 44/50\n",
      "13/13 [==============================] - 19s 1s/step - loss: 0.0310 - accuracy: 0.9904 - val_loss: 0.3359 - val_accuracy: 0.8881\n",
      "Epoch 45/50\n",
      "13/13 [==============================] - 19s 1s/step - loss: 0.0482 - accuracy: 0.9832 - val_loss: 0.3045 - val_accuracy: 0.8806\n",
      "Epoch 46/50\n",
      "13/13 [==============================] - 17s 1s/step - loss: 0.0401 - accuracy: 0.9856 - val_loss: 0.2123 - val_accuracy: 0.9179\n",
      "Epoch 47/50\n",
      "13/13 [==============================] - 16s 1s/step - loss: 0.0300 - accuracy: 0.9832 - val_loss: 0.4296 - val_accuracy: 0.8657\n",
      "Epoch 48/50\n",
      "13/13 [==============================] - 15s 1s/step - loss: 0.0672 - accuracy: 0.9784 - val_loss: 0.3010 - val_accuracy: 0.8806\n",
      "Epoch 49/50\n",
      "13/13 [==============================] - 15s 1s/step - loss: 0.0436 - accuracy: 0.9832 - val_loss: 0.1963 - val_accuracy: 0.9328\n",
      "Epoch 50/50\n",
      "13/13 [==============================] - 16s 1s/step - loss: 0.0354 - accuracy: 0.9904 - val_loss: 0.4136 - val_accuracy: 0.8657\n"
     ]
    }
   ],
   "source": [
    "# fit the model\n",
    "# Run the cell. It will take some time to execute\n",
    "r = model.fit_generator(\n",
    "  training_set,\n",
    "  validation_data=test_set,\n",
    "  epochs=50,\n",
    "  steps_per_epoch=len(training_set),\n",
    "  validation_steps=len(test_set)\n",
    ")"
   ]
  },
  {
   "cell_type": "code",
   "execution_count": 19,
   "id": "16f35a81",
   "metadata": {},
   "outputs": [
    {
     "data": {
      "image/png": "[encoded data removed]",
      "text/plain": [
       "<Figure size 432x288 with 1 Axes>"
      ]
     },
     "metadata": {
      "needs_background": "light"
     },
     "output_type": "display_data"
    },
    {
     "data": {
      "text/plain": [
       "<Figure size 432x288 with 0 Axes>"
      ]
     },
     "metadata": {},
     "output_type": "display_data"
    }
   ],
   "source": [
    "# plot the loss\n",
    "plt.plot(r.history['loss'], label='train loss')\n",
    "plt.plot(r.history['val_loss'], label='val loss')\n",
    "plt.legend()\n",
    "plt.show()\n",
    "plt.savefig('LossVal_loss')"
   ]
  },
  {
   "cell_type": "code",
   "execution_count": 20,
   "id": "0e8bdbc5",
   "metadata": {},
   "outputs": [
    {
     "data": {
      "image/png": "[encoded data removed]",
      "text/plain": [
       "<Figure size 432x288 with 1 Axes>"
      ]
     },
     "metadata": {
      "needs_background": "light"
     },
     "output_type": "display_data"
    },
    {
     "data": {
      "text/plain": [
       "<Figure size 432x288 with 0 Axes>"
      ]
     },
     "metadata": {},
     "output_type": "display_data"
    }
   ],
   "source": [
    "# plot the accuracy\n",
    "plt.plot(r.history['accuracy'], label='train acc')\n",
    "plt.plot(r.history['val_accuracy'], label='val acc')\n",
    "plt.legend()\n",
    "plt.show()\n",
    "plt.savefig('AccVal_acc')"
   ]
  },
  {
   "cell_type": "code",
   "execution_count": 21,
   "id": "005f4f77",
   "metadata": {},
   "outputs": [],
   "source": [
    "# save it as a h5 file\n",
    "\n",
    "\n",
    "from tensorflow.keras.models import load_model\n",
    "\n",
    "model.save('model_vgg19.h5')"
   ]
  },
  {
   "cell_type": "code",
   "execution_count": 22,
   "id": "39f3b941",
   "metadata": {},
   "outputs": [
    {
     "name": "stdout",
     "output_type": "stream",
     "text": [
      "5/5 [==============================] - 1s 132ms/step\n"
     ]
    }
   ],
   "source": [
    "y_pred = model.predict(test_set)"
   ]
  },
  {
   "cell_type": "code",
   "execution_count": 23,
   "id": "cb327bc8",
   "metadata": {},
   "outputs": [
    {
     "data": {
      "text/plain": [
       "array([[9.9972838e-01, 2.7162165e-04],\n",
       "       [9.9996614e-01, 3.3840337e-05],\n",
       "       [9.9880052e-01, 1.1994622e-03],\n",
       "       [2.3665899e-02, 9.7633410e-01],\n",
       "       [9.9999976e-01, 1.8369502e-07],\n",
       "       [1.0000000e+00, 6.2413487e-14],\n",
       "       [2.6087976e-01, 7.3912030e-01],\n",
       "       [9.9161911e-01, 8.3808657e-03],\n",
       "       [9.9999821e-01, 1.8245694e-06],\n",
       "       [9.7605848e-01, 2.3941480e-02],\n",
       "       [9.9446762e-01, 5.5323276e-03],\n",
       "       [9.8084183e-03, 9.9019158e-01],\n",
       "       [9.9809963e-01, 1.9003520e-03],\n",
       "       [4.0604245e-02, 9.5939571e-01],\n",
       "       [4.5792907e-03, 9.9542063e-01],\n",
       "       [2.7940664e-02, 9.7205937e-01],\n",
       "       [4.3394491e-01, 5.6605506e-01],\n",
       "       [1.2325113e-02, 9.8767483e-01],\n",
       "       [9.9999321e-01, 6.8189020e-06],\n",
       "       [2.9516563e-02, 9.7048336e-01],\n",
       "       [9.9999905e-01, 9.1166925e-07],\n",
       "       [9.7212251e-03, 9.9027878e-01],\n",
       "       [9.9877769e-01, 1.2223475e-03],\n",
       "       [9.2778963e-01, 7.2210431e-02],\n",
       "       [9.9862683e-01, 1.3732251e-03],\n",
       "       [9.9999976e-01, 2.4748965e-07],\n",
       "       [3.4290319e-03, 9.9657094e-01],\n",
       "       [2.9393171e-03, 9.9706072e-01],\n",
       "       [1.0000000e+00, 2.7353437e-13],\n",
       "       [5.6436206e-03, 9.9435633e-01],\n",
       "       [3.2587271e-02, 9.6741271e-01],\n",
       "       [1.2177235e-02, 9.8782277e-01],\n",
       "       [1.3578745e-02, 9.8642123e-01],\n",
       "       [4.7288332e-02, 9.5271164e-01],\n",
       "       [1.9868230e-02, 9.8013180e-01],\n",
       "       [9.8561853e-01, 1.4381506e-02],\n",
       "       [1.0000000e+00, 7.6376273e-11],\n",
       "       [1.0000000e+00, 5.0159360e-10],\n",
       "       [4.5996852e-02, 9.5400316e-01],\n",
       "       [9.9866831e-01, 1.3317328e-03],\n",
       "       [9.9999738e-01, 2.6513151e-06],\n",
       "       [9.5473588e-01, 4.5264117e-02],\n",
       "       [1.0093192e-03, 9.9899071e-01],\n",
       "       [9.9984825e-01, 1.5174987e-04],\n",
       "       [3.0477026e-02, 9.6952289e-01],\n",
       "       [9.9975580e-01, 2.4422674e-04],\n",
       "       [4.2867586e-01, 5.7132411e-01],\n",
       "       [8.8883936e-03, 9.9111158e-01],\n",
       "       [1.4439331e-01, 8.5560673e-01],\n",
       "       [1.0000000e+00, 8.5403048e-18],\n",
       "       [9.9693131e-01, 3.0685996e-03],\n",
       "       [9.9999905e-01, 9.6947156e-07],\n",
       "       [1.8694574e-01, 8.1305432e-01],\n",
       "       [2.9775297e-02, 9.7022468e-01],\n",
       "       [9.9997914e-01, 2.0852078e-05],\n",
       "       [9.9860966e-01, 1.3903043e-03],\n",
       "       [9.9999905e-01, 9.1455689e-07],\n",
       "       [1.1623447e-02, 9.8837656e-01],\n",
       "       [9.9968112e-01, 3.1884469e-04],\n",
       "       [9.9936908e-01, 6.3090300e-04],\n",
       "       [7.2119012e-03, 9.9278814e-01],\n",
       "       [9.9992108e-01, 7.8886231e-05],\n",
       "       [9.2025262e-01, 7.9747364e-02],\n",
       "       [1.0000000e+00, 1.6558651e-12],\n",
       "       [2.4391741e-02, 9.7560829e-01],\n",
       "       [1.6962459e-02, 9.8303753e-01],\n",
       "       [2.3323981e-02, 9.7667605e-01],\n",
       "       [9.9999082e-01, 9.1528718e-06],\n",
       "       [9.9058878e-01, 9.4112381e-03],\n",
       "       [1.7605963e-01, 8.2394040e-01],\n",
       "       [1.0000000e+00, 3.6755694e-08],\n",
       "       [2.3945273e-01, 7.6054722e-01],\n",
       "       [6.7496151e-01, 3.2503849e-01],\n",
       "       [1.6745850e-03, 9.9832541e-01],\n",
       "       [9.9999678e-01, 3.2388307e-06],\n",
       "       [9.9945396e-01, 5.4599222e-04],\n",
       "       [3.8173366e-02, 9.6182668e-01],\n",
       "       [1.0000000e+00, 9.2466818e-10],\n",
       "       [4.2936355e-03, 9.9570638e-01],\n",
       "       [2.7720884e-03, 9.9722785e-01],\n",
       "       [9.9579668e-01, 4.2033233e-03],\n",
       "       [1.1601060e-01, 8.8398945e-01],\n",
       "       [1.6164155e-01, 8.3835846e-01],\n",
       "       [9.9999976e-01, 1.8592222e-07],\n",
       "       [9.9999380e-01, 6.1765340e-06],\n",
       "       [1.0000000e+00, 2.4863752e-11],\n",
       "       [9.1103958e-03, 9.9088961e-01],\n",
       "       [9.9968648e-01, 3.1354232e-04],\n",
       "       [8.1419265e-03, 9.9185807e-01],\n",
       "       [9.8837411e-01, 1.1625813e-02],\n",
       "       [9.9999988e-01, 6.4766276e-08],\n",
       "       [1.0000000e+00, 3.2058438e-09],\n",
       "       [9.9999654e-01, 3.4366567e-06],\n",
       "       [9.9978262e-01, 2.1742872e-04],\n",
       "       [4.5007166e-02, 9.5499277e-01],\n",
       "       [9.9995923e-01, 4.0732200e-05],\n",
       "       [5.8782259e-03, 9.9412173e-01],\n",
       "       [9.9999046e-01, 9.4869019e-06],\n",
       "       [9.9103266e-01, 8.9673419e-03],\n",
       "       [1.0000000e+00, 2.3704361e-10],\n",
       "       [9.9942005e-01, 5.7992479e-04],\n",
       "       [4.0546074e-03, 9.9594539e-01],\n",
       "       [1.0000000e+00, 3.0922894e-08],\n",
       "       [1.6021789e-03, 9.9839777e-01],\n",
       "       [9.9999487e-01, 5.1112033e-06],\n",
       "       [1.0000000e+00, 5.7790822e-13],\n",
       "       [9.9995947e-01, 4.0494513e-05],\n",
       "       [2.4900129e-03, 9.9750996e-01],\n",
       "       [9.9987113e-01, 1.2885615e-04],\n",
       "       [9.9999619e-01, 3.8213716e-06],\n",
       "       [1.0000000e+00, 9.6122097e-09],\n",
       "       [8.4171854e-02, 9.1582811e-01],\n",
       "       [3.3711568e-02, 9.6628845e-01],\n",
       "       [9.9869436e-01, 1.3056907e-03],\n",
       "       [9.6755487e-01, 3.2445166e-02],\n",
       "       [1.0000000e+00, 1.4021181e-19],\n",
       "       [3.6443833e-02, 9.6355617e-01],\n",
       "       [7.5873090e-03, 9.9241263e-01],\n",
       "       [1.1105771e-01, 8.8894230e-01],\n",
       "       [5.1261518e-02, 9.4873846e-01],\n",
       "       [1.8091540e-01, 8.1908458e-01],\n",
       "       [3.1019568e-03, 9.9689806e-01],\n",
       "       [9.9985683e-01, 1.4320566e-04],\n",
       "       [1.8227611e-02, 9.8177242e-01],\n",
       "       [5.2690357e-01, 4.7309646e-01],\n",
       "       [4.3562958e-03, 9.9564373e-01],\n",
       "       [1.0000000e+00, 4.4420848e-10],\n",
       "       [9.9839455e-01, 1.6054882e-03],\n",
       "       [9.9936408e-01, 6.3597964e-04],\n",
       "       [4.3675978e-02, 9.5632398e-01],\n",
       "       [7.5805664e-02, 9.2419434e-01],\n",
       "       [3.9614830e-02, 9.6038514e-01],\n",
       "       [4.3119518e-03, 9.9568802e-01],\n",
       "       [2.8419732e-03, 9.9715805e-01]], dtype=float32)"
      ]
     },
     "execution_count": 23,
     "metadata": {},
     "output_type": "execute_result"
    }
   ],
   "source": [
    "y_pred"
   ]
  },
  {
   "cell_type": "code",
   "execution_count": 24,
   "id": "fb7f527c",
   "metadata": {},
   "outputs": [],
   "source": [
    "import numpy as np\n",
    "y_pred = np.argmax(y_pred, axis=1)"
   ]
  },
  {
   "cell_type": "code",
   "execution_count": 25,
   "id": "3e92a3af",
   "metadata": {},
   "outputs": [
    {
     "data": {
      "text/plain": [
       "array([0, 0, 0, 1, 0, 0, 1, 0, 0, 0, 0, 1, 0, 1, 1, 1, 1, 1, 0, 1, 0, 1,\n",
       "       0, 0, 0, 0, 1, 1, 0, 1, 1, 1, 1, 1, 1, 0, 0, 0, 1, 0, 0, 0, 1, 0,\n",
       "       1, 0, 1, 1, 1, 0, 0, 0, 1, 1, 0, 0, 0, 1, 0, 0, 1, 0, 0, 0, 1, 1,\n",
       "       1, 0, 0, 1, 0, 1, 0, 1, 0, 0, 1, 0, 1, 1, 0, 1, 1, 0, 0, 0, 1, 0,\n",
       "       1, 0, 0, 0, 0, 0, 1, 0, 1, 0, 0, 0, 0, 1, 0, 1, 0, 0, 0, 1, 0, 0,\n",
       "       0, 1, 1, 0, 0, 0, 1, 1, 1, 1, 1, 1, 0, 1, 0, 1, 0, 0, 0, 1, 1, 1,\n",
       "       1, 1], dtype=int64)"
      ]
     },
     "execution_count": 25,
     "metadata": {},
     "output_type": "execute_result"
    }
   ],
   "source": [
    "y_pred"
   ]
  },
  {
   "cell_type": "code",
   "execution_count": 26,
   "id": "2461bd96",
   "metadata": {},
   "outputs": [],
   "source": [
    "from tensorflow.keras.models import load_model\n",
    "from tensorflow.keras.preprocessing import image"
   ]
  },
  {
   "cell_type": "code",
   "execution_count": 27,
   "id": "3cc6b894",
   "metadata": {},
   "outputs": [],
   "source": [
    "model=load_model('model_vgg19.h5')"
   ]
  },
  {
   "cell_type": "code",
   "execution_count": 28,
   "id": "bebd0fcd",
   "metadata": {},
   "outputs": [],
   "source": [
    "img=image.load_img('Dataset/Test/Uninfected/2.png', target_size=(224, 224))"
   ]
  },
  {
   "cell_type": "code",
   "execution_count": 29,
   "id": "b95f2018",
   "metadata": {},
   "outputs": [
    {
     "data": {
      "text/plain": [
       "array([[[0., 0., 0.],\n",
       "        [0., 0., 0.],\n",
       "        [0., 0., 0.],\n",
       "        ...,\n",
       "        [0., 0., 0.],\n",
       "        [0., 0., 0.],\n",
       "        [0., 0., 0.]],\n",
       "\n",
       "       [[0., 0., 0.],\n",
       "        [0., 0., 0.],\n",
       "        [0., 0., 0.],\n",
       "        ...,\n",
       "        [0., 0., 0.],\n",
       "        [0., 0., 0.],\n",
       "        [0., 0., 0.]],\n",
       "\n",
       "       [[0., 0., 0.],\n",
       "        [0., 0., 0.],\n",
       "        [0., 0., 0.],\n",
       "        ...,\n",
       "        [0., 0., 0.],\n",
       "        [0., 0., 0.],\n",
       "        [0., 0., 0.]],\n",
       "\n",
       "       ...,\n",
       "\n",
       "       [[0., 0., 0.],\n",
       "        [0., 0., 0.],\n",
       "        [0., 0., 0.],\n",
       "        ...,\n",
       "        [0., 0., 0.],\n",
       "        [0., 0., 0.],\n",
       "        [0., 0., 0.]],\n",
       "\n",
       "       [[0., 0., 0.],\n",
       "        [0., 0., 0.],\n",
       "        [0., 0., 0.],\n",
       "        ...,\n",
       "        [0., 0., 0.],\n",
       "        [0., 0., 0.],\n",
       "        [0., 0., 0.]],\n",
       "\n",
       "       [[0., 0., 0.],\n",
       "        [0., 0., 0.],\n",
       "        [0., 0., 0.],\n",
       "        ...,\n",
       "        [0., 0., 0.],\n",
       "        [0., 0., 0.],\n",
       "        [0., 0., 0.]]], dtype=float32)"
      ]
     },
     "execution_count": 29,
     "metadata": {},
     "output_type": "execute_result"
    }
   ],
   "source": [
    "x= image.img_to_array(img)\n",
    "x"
   ]
  },
  {
   "cell_type": "code",
   "execution_count": 30,
   "id": "eb562d0f",
   "metadata": {},
   "outputs": [
    {
     "data": {
      "text/plain": [
       "(224, 224, 3)"
      ]
     },
     "execution_count": 30,
     "metadata": {},
     "output_type": "execute_result"
    }
   ],
   "source": [
    "x.shape"
   ]
  },
  {
   "cell_type": "code",
   "execution_count": 31,
   "id": "1c981ccb",
   "metadata": {},
   "outputs": [],
   "source": [
    "x=x/255"
   ]
  },
  {
   "cell_type": "code",
   "execution_count": 32,
   "id": "1f4046d4",
   "metadata": {},
   "outputs": [
    {
     "data": {
      "text/plain": [
       "(1, 224, 224, 3)"
      ]
     },
     "execution_count": 32,
     "metadata": {},
     "output_type": "execute_result"
    }
   ],
   "source": [
    "x=np.expand_dims(x,axis=0)\n",
    "img_data=preprocess_input(x)\n",
    "img_data.shape"
   ]
  },
  {
   "cell_type": "code",
   "execution_count": 33,
   "id": "ce786fc1",
   "metadata": {},
   "outputs": [
    {
     "name": "stdout",
     "output_type": "stream",
     "text": [
      "1/1 [==============================] - 0s 258ms/step\n"
     ]
    },
    {
     "data": {
      "text/plain": [
       "array([[1., 0.]], dtype=float32)"
      ]
     },
     "execution_count": 33,
     "metadata": {},
     "output_type": "execute_result"
    }
   ],
   "source": [
    "model.predict(img_data)"
   ]
  },
  {
   "cell_type": "code",
   "execution_count": 34,
   "id": "219baed6",
   "metadata": {},
   "outputs": [
    {
     "name": "stdout",
     "output_type": "stream",
     "text": [
      "1/1 [==============================] - 0s 40ms/step\n"
     ]
    }
   ],
   "source": [
    "a=np.argmax(model.predict(img_data), axis=1)"
   ]
  },
  {
   "cell_type": "code",
   "execution_count": 35,
   "id": "67929b69",
   "metadata": {},
   "outputs": [
    {
     "name": "stdout",
     "output_type": "stream",
     "text": [
      "Infected\n"
     ]
    }
   ],
   "source": [
    "if(a==1):\n",
    "    print(\"Uninfected\")\n",
    "else:\n",
    "    print(\"Infected\")"
   ]
  },
  {
   "cell_type": "code",
   "execution_count": null,
   "id": "cfa8d9cc",
   "metadata": {},
   "outputs": [],
   "source": []
  }
 ],
 "metadata": {
  "kernelspec": {
   "display_name": "Python 3 (ipykernel)",
   "language": "python",
   "name": "python3"
  },
  "language_info": {
   "codemirror_mode": {
    "name": "ipython",
    "version": 3
   },
   "file_extension": ".py",
   "mimetype": "text/x-python",
   "name": "python",
   "nbconvert_exporter": "python",
   "pygments_lexer": "ipython3",
   "version": "3.9.12"
  }
 },
 "nbformat": 4,
 "nbformat_minor": 5
}
